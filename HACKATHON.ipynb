{
 "metadata": {
  "kernelspec": {
   "display_name": "Streamlit Notebook",
   "name": "streamlit"
  },
  "lastEditStatus": {
   "notebookId": "k3glqe7a55xtgo23lhfd",
   "authorId": "1472075616491",
   "authorName": "JBATACAN",
   "authorEmail": "john.batacan@ecloudvalley.com",
   "sessionId": "1d8b600e-fb66-41c4-aee2-5a22c41eb5b5",
   "lastEditTime": 1760474998027
  }
 },
 "nbformat_minor": 5,
 "nbformat": 4,
 "cells": [
  {
   "cell_type": "code",
   "id": "3775908f-ca36-4846-8f38-5adca39217f2",
   "metadata": {
    "language": "sql",
    "name": "SCHEMA"
   },
   "source": "USE ROLE ACCOUNTADMIN;\nUSE WAREHOUSE HACK_WH;\nUSE DATABASE TOURISM_DB;\n\nCREATE SCHEMA IF NOT EXISTS TOURISM_DB.RAW;\nCREATE SCHEMA IF NOT EXISTS TOURISM_DB.CURATED;\n\n",
   "execution_count": null,
   "outputs": []
  },
  {
   "cell_type": "code",
   "id": "c7e9e165-4c8e-4a05-9608-b3477c3ed9be",
   "metadata": {
    "language": "sql",
    "name": "ROLE"
   },
   "outputs": [],
   "source": "-- (1) Create the dedicated Cortex role\nCREATE ROLE IF NOT EXISTS CORTEX_APP_ROLE COMMENT = 'Role for Smart Trip & Safety Concierge Analyst';\n\n-- (2) Grant it usage on key objects\nGRANT USAGE ON WAREHOUSE HACK_WH TO ROLE CORTEX_APP_ROLE;\nGRANT USAGE ON DATABASE TOURISM_DB TO ROLE CORTEX_APP_ROLE;\nGRANT USAGE ON SCHEMA TOURISM_DB.CURATED TO ROLE CORTEX_APP_ROLE;\nGRANT USAGE ON SCHEMA TOURISM_DB.META TO ROLE CORTEX_APP_ROLE;\n\n-- (3) Allow data reading and stored procedure calls\nGRANT SELECT ON ALL TABLES IN SCHEMA TOURISM_DB.CURATED TO ROLE CORTEX_APP_ROLE;\nGRANT SELECT ON FUTURE TABLES IN SCHEMA TOURISM_DB.CURATED TO ROLE CORTEX_APP_ROLE;\n\nGRANT SELECT ON ALL VIEWS IN SCHEMA TOURISM_DB.CURATED TO ROLE CORTEX_APP_ROLE;\nGRANT SELECT ON FUTURE VIEWS IN SCHEMA TOURISM_DB.CURATED TO ROLE CORTEX_APP_ROLE;\n\n-- (4) Optional but recommended: allow viewing stage/file data\nGRANT USAGE ON ALL STAGES IN SCHEMA TOURISM_DB.RAW TO ROLE CORTEX_APP_ROLE;\n\n-- (5) Assign to your user so you can test\nGRANT ROLE CORTEX_APP_ROLE TO USER JBATACAN;\n-- Example: GRANT ROLE CORTEX_APP_ROLE TO USER JOHN_BATACAN;\n",
   "execution_count": null
  },
  {
   "cell_type": "code",
   "id": "8d50cbf4-0c8d-4950-86cb-114990437ac9",
   "metadata": {
    "language": "sql",
    "name": "STG"
   },
   "source": "CREATE OR REPLACE FILE FORMAT TOURISM_DB.-- (1) Create the dedicated Cortex role\nCREATE ROLE IF NOT EXISTS CORTEX_APP_ROLE COMMENT = 'Role for Smart Trip & Safety Concierge Analyst';\n\n-- (2) Grant it usage on key objects\nGRANT USAGE ON WAREHOUSE HACK_WH TO ROLE CORTEX_APP_ROLE;\nGRANT USAGE ON DATABASE TOURISM_DB TO ROLE CORTEX_APP_ROLE;\nGRANT USAGE ON SCHEMA TOURISM_DB.CURATED TO ROLE CORTEX_APP_ROLE;\nGRANT USAGE ON SCHEMA TOURISM_DB.META TO ROLE CORTEX_APP_ROLE;\n\n-- (3) Allow data reading and stored procedure calls\nGRANT SELECT ON ALL TABLES IN SCHEMA TOURISM_DB.CURATED TO ROLE CORTEX_APP_ROLE;\nGRANT SELECT ON FUTURE TABLES IN SCHEMA TOURISM_DB.CURATED TO ROLE CORTEX_APP_ROLE;\n\nGRANT SELECT ON ALL VIEWS IN SCHEMA TOURISM_DB.CURATED TO ROLE CORTEX_APP_ROLE;\nGRANT SELECT ON FUTURE VIEWS IN SCHEMA TOURISM_DB.CURATED TO ROLE CORTEX_APP_ROLE;\n\nGRANT EXECUTE ON ALL PROCEDURES IN SCHEMA TOURISM_DB.META TO ROLE CORTEX_APP_ROLE;\nGRANT EXECUTE ON FUTURE PROCEDURES IN SCHEMA TOURISM_DB.META TO ROLE CORTEX_APP_ROLE;\n\n-- (4) Optional but recommended: allow viewing stage/file data\nGRANT USAGE ON ALL STAGES IN SCHEMA TOURISM_DB.RAW TO ROLE CORTEX_APP_ROLE;\n\n-- (5) Assign to your user so you can test\nGRANT ROLE CORTEX_APP_ROLE TO USER <your_username>;\n-- Example: GRANT ROLE CORTEX_APP_ROLE TO USER JOHN_BATACAN;\nRAW.CSV_STD \n  TYPE=CSV SKIP_HEADER=1 FIELD_OPTIONALLY_ENCLOSED_BY='\"';\n\nCREATE STAGE IF NOT EXISTS TOURISM_DB.RAW.STAGE_WEATHER;\nCREATE STAGE IF NOT EXISTS TOURISM_DB.RAW.STAGE_POI;\nCREATE STAGE IF NOT EXISTS TOURISM_DB.RAW.STAGE_HOLIDAYS;\nCREATE STAGE IF NOT EXISTS TOURISM_DB.RAW.STAGE_CRIME;\nCREATE STAGE IF NOT EXISTS TOURISM_DB.RAW.STAGE_GTFS;\nCREATE STAGE IF NOT EXISTS TOURISM_DB.RAW.STAGE_TRAFFIC;\nCREATE STAGE IF NOT EXISTS TOURISM_DB.RAW.STAGE_HOTELS;\n",
   "execution_count": null,
   "outputs": []
  },
  {
   "cell_type": "code",
   "id": "c695373e-ac74-4b62-a1f1-08206cbd5c81",
   "metadata": {
    "language": "sql",
    "name": "RAW_TBLS",
    "collapsed": false,
    "codeCollapsed": false
   },
   "outputs": [],
   "source": "CREATE OR REPLACE TABLE TOURISM_DB.RAW.WEATHER_HOURLY(\n  AS_OF_TS TIMESTAMP_TZ, LAT NUMBER(9,6), LON NUMBER(9,6),\n  FORECAST_TS TIMESTAMP_TZ, TEMP_C FLOAT, PRECIP_PROB FLOAT, WIND_KPH FLOAT, SRC VARIANT\n);\n\nCREATE OR REPLACE TABLE TOURISM_DB.RAW.POI_OPENTRIPMAP(\n  FETCHED_TS TIMESTAMP_TZ, POI_ID STRING, NAME STRING, KINDS STRING, OSM_ID STRING,\n  LAT FLOAT, LON FLOAT, RATE FLOAT, WIKIDATA STRING, RAW VARIANT\n);\n\nCREATE OR REPLACE TABLE TOURISM_DB.RAW.PH_HOLIDAYS(\n  FETCHED_TS TIMESTAMP_TZ, DATE DATE, LOCAL_NAME STRING, NAME STRING,\n  FIXED BOOLEAN, GLOBAL BOOLEAN, COUNTIES ARRAY, TYPES ARRAY, RAW VARIANT\n);\n\nCREATE OR REPLACE TABLE TOURISM_DB.RAW.CRIME_INCIDENTS(\n  SRC_FILE STRING, INCIDENT_ID STRING, INCIDENT_TS TIMESTAMP_TZ,\n  CATEGORY STRING, CITY STRING, BARANGAY STRING, LAT FLOAT, LON FLOAT, RAW VARIANT\n);\n\nCREATE OR REPLACE TABLE TOURISM_DB.RAW.TRAFFIC_SPEEDS(\n  SEGMENT_ID STRING, ROAD_NAME STRING, START_LAT FLOAT, START_LON FLOAT,\n  END_LAT FLOAT, END_LON FLOAT, AS_OF_TS TIMESTAMP_TZ,\n  SPEED_KPH FLOAT, CONGESTION_LEVEL STRING\n);\n\nCREATE OR REPLACE TABLE TOURISM_DB.RAW.TRAFFIC_INCIDENTS(\n  INCIDENT_ID STRING, SEGMENT_ID STRING, ROAD_NAME STRING,\n  LAT FLOAT, LON FLOAT, AS_OF_TS TIMESTAMP_TZ, TYPE STRING, SEVERITY STRING\n);\n\nCREATE OR REPLACE TABLE TOURISM_DB.RAW.GTFS_STOPS_EXP(\n  STOP_ID STRING, STOP_NAME STRING, STOP_LAT FLOAT, STOP_LON FLOAT, PARENT_STATION STRING, ZONE_ID STRING, RAW VARIANT\n);\nCREATE OR REPLACE TABLE TOURISM_DB.RAW.GTFS_TRIPS_EXP(\n  ROUTE_ID STRING, SERVICE_ID STRING, TRIP_ID STRING, TRIP_HEADSIGN STRING, DIRECTION_ID STRING, RAW VARIANT\n);\nCREATE OR REPLACE TABLE TOURISM_DB.RAW.GTFS_STOP_TIMES_EXP(\n  TRIP_ID STRING, ARRIVAL_TIME STRING, DEPARTURE_TIME STRING, STOP_ID STRING, STOP_SEQUENCE INT, RAW VARIANT\n);\n\nCREATE OR REPLACE TABLE TOURISM_DB.RAW.HOTELS(\n  HOTEL_ID STRING, NAME STRING, LAT FLOAT, LON FLOAT, CITY STRING, AREA STRING,\n  STARS INT, PRICE_NIGHT_PHP NUMBER(10,2), REFUNDABLE BOOLEAN, RATING FLOAT, AMENITIES STRING, SAFETY_SCORE FLOAT\n);\n",
   "execution_count": null
  },
  {
   "cell_type": "code",
   "id": "abaeb291-ea35-4317-9298-b865970a5c54",
   "metadata": {
    "language": "sql",
    "name": "LOAD"
   },
   "outputs": [],
   "source": "COPY INTO TOURISM_DB.RAW.WEATHER_HOURLY\nFROM @TOURISM_DB.RAW.STAGE_WEATHER/weather_hourly.csv\nFILE_FORMAT=(FORMAT_NAME=TOURISM_DB.RAW.CSV_STD);\n\nCOPY INTO TOURISM_DB.RAW.POI_OPENTRIPMAP\nFROM @TOURISM_DB.RAW.STAGE_POI/poi_opentripmap.csv\nFILE_FORMAT=(FORMAT_NAME=TOURISM_DB.RAW.CSV_STD);\n\nCOPY INTO TOURISM_DB.RAW.PH_HOLIDAYS\nFROM @TOURISM_DB.RAW.STAGE_HOLIDAYS/ph_holidays_2025_2026.csv\nFILE_FORMAT=(FORMAT_NAME=TOURISM_DB.RAW.CSV_STD);\n\nCOPY INTO TOURISM_DB.RAW.CRIME_INCIDENTS\nFROM @TOURISM_DB.RAW.STAGE_CRIME/crime_incidents.csv\nFILE_FORMAT=(FORMAT_NAME=TOURISM_DB.RAW.CSV_STD);\n\nCOPY INTO TOURISM_DB.RAW.TRAFFIC_SPEEDS\nFROM @TOURISM_DB.RAW.STAGE_TRAFFIC/traffic_speeds.csv\nFILE_FORMAT=(FORMAT_NAME=TOURISM_DB.RAW.CSV_STD);\n\nCOPY INTO TOURISM_DB.RAW.TRAFFIC_INCIDENTS\nFROM @TOURISM_DB.RAW.STAGE_TRAFFIC/traffic_incidents.csv\nFILE_FORMAT=(FORMAT_NAME=TOURISM_DB.RAW.CSV_STD);\n\nCOPY INTO TOURISM_DB.RAW.GTFS_STOPS_EXP\n  FROM @TOURISM_DB.RAW.STAGE_GTFS/gtfs_stops_expanded.txt\n  FILE_FORMAT=(FORMAT_NAME=TOURISM_DB.RAW.CSV_STD);\n\nCOPY INTO TOURISM_DB.RAW.GTFS_TRIPS_EXP\n  FROM @TOURISM_DB.RAW.STAGE_GTFS/gtfs_trips_expanded.txt\n  FILE_FORMAT=(FORMAT_NAME=TOURISM_DB.RAW.CSV_STD);\n\nCOPY INTO TOURISM_DB.RAW.GTFS_STOP_TIMES_EXP\n  FROM @TOURISM_DB.RAW.STAGE_GTFS/gtfs_stop_times_expanded.txt\n  FILE_FORMAT=(FORMAT_NAME=TOURISM_DB.RAW.CSV_STD);\n\nCOPY INTO TOURISM_DB.RAW.HOTELS\nFROM @TOURISM_DB.RAW.STAGE_HOTELS/hotels.csv\nFILE_FORMAT=(FORMAT_NAME=TOURISM_DB.RAW.CSV_STD);",
   "execution_count": null
  },
  {
   "cell_type": "code",
   "id": "dd98556c-31ac-4442-bd12-89f8ed69d80d",
   "metadata": {
    "language": "sql",
    "name": "VIEWS"
   },
   "outputs": [],
   "source": "CREATE OR REPLACE VIEW TOURISM_DB.CURATED.WEATHER_SUITABILITY AS\nSELECT\n  LAT,\n  LON,\n  FORECAST_TS,\n  TEMP_C,\n  PRECIP_PROB,\n  WIND_KPH,\n  CASE \n    WHEN LOWER((PARSE_JSON(SRC):city)::STRING) = 'intramuros' THEN 'Manila'\n    ELSE COALESCE((PARSE_JSON(SRC):city)::STRING, 'Unknown')\n  END AS CITY,\n  \n  LEAST(\n    1.0,\n    GREATEST(\n      0.0,\n      1 - (PRECIP_PROB / 100) * 0.7 - (WIND_KPH / 40) * 0.3\n    )\n  ) AS SUITABILITY,\n\n  CASE \n    WHEN PRECIP_PROB >= 60 THEN 'Better indoor' \n    ELSE 'Good for outdoor' \n  END AS RECO\n\nFROM TOURISM_DB.RAW.WEATHER_HOURLY;\n\n\n\nCREATE OR REPLACE VIEW TOURISM_DB.CURATED.POI AS\nSELECT POI_ID, NAME, KINDS, LAT, LON, RATE,\n       (COALESCE(RATE,0)) AS POPULARITY_SCORE\nFROM TOURISM_DB.RAW.POI_OPENTRIPMAP;\n\nCREATE OR REPLACE VIEW TOURISM_DB.CURATED.HOLIDAYS AS\nSELECT DATE, LOCAL_NAME, NAME FROM TOURISM_DB.RAW.PH_HOLIDAYS;\n\nCREATE OR REPLACE VIEW TOURISM_DB.CURATED.SAFETY_INDEX AS\nSELECT CITY, BARANGAY, DATE_TRUNC('day', INCIDENT_TS) AS D, COUNT(*) AS INCIDENTS_DAY\nFROM TOURISM_DB.RAW.CRIME_INCIDENTS\nGROUP BY 1,2,3;\n\nCREATE OR REPLACE VIEW TOURISM_DB.CURATED.TRAFFIC_LATEST AS\nSELECT t.*\nFROM TOURISM_DB.RAW.TRAFFIC_SPEEDS t\nQUALIFY ROW_NUMBER() OVER (PARTITION BY SEGMENT_ID ORDER BY AS_OF_TS DESC)=1;\n\nCREATE OR REPLACE VIEW TOURISM_DB.CURATED.TRAFFIC_ALERTS AS\nSELECT SEGMENT_ID, ROAD_NAME, AS_OF_TS, TYPE, SEVERITY, LAT, LON\nFROM TOURISM_DB.RAW.TRAFFIC_INCIDENTS\nWHERE AS_OF_TS >= DATEADD(day,-7,CURRENT_TIMESTAMP());\n\nCREATE OR REPLACE VIEW TOURISM_DB.CURATED.TRANSIT_NEXT_DEPARTURES AS\nWITH BASE AS (\n  SELECT st.TRIP_ID, st.STOP_ID, st.ARRIVAL_TIME,\n         TO_TIME(ARRIVAL_TIME) AS ARR_T, s.STOP_NAME, s.STOP_LAT, s.STOP_LON, t.ROUTE_ID, t.TRIP_HEADSIGN\n  FROM TOURISM_DB.RAW.GTFS_STOP_TIMES_EXP st\n  JOIN TOURISM_DB.RAW.GTFS_TRIPS_EXP t  USING (TRIP_ID)\n  JOIN TOURISM_DB.RAW.GTFS_STOPS_EXP s ON s.STOP_ID=st.STOP_ID\n)\nSELECT *\nFROM BASE\nWHERE ARR_T BETWEEN TIME_FROM_PARTS(07,00,00) AND TIME_FROM_PARTS(10,00,00)\nORDER BY ARR_T;\n\n\nCREATE OR REPLACE VIEW TOURISM_DB.CURATED.HOTEL_RECO AS\nSELECT\n  HOTEL_ID, NAME, CITY, AREA, STARS, PRICE_NIGHT_PHP, REFUNDABLE, RATING, AMENITIES, SAFETY_SCORE, LAT, LON,\n  (RATING*0.5 + STARS*0.2 + SAFETY_SCORE*0.3) AS SCORE\nFROM TOURISM_DB.RAW.HOTELS;\n",
   "execution_count": null
  },
  {
   "cell_type": "code",
   "id": "6c719c55-080b-439f-b522-c71dee66e822",
   "metadata": {
    "language": "sql",
    "name": "CHECK1"
   },
   "outputs": [],
   "source": "SELECT DISTINCT(CITY) FROM CURATED.WEATHER_SUITABILITY;",
   "execution_count": null
  },
  {
   "cell_type": "code",
   "id": "06785b1e-40d1-4e63-8696-8f2982870cfa",
   "metadata": {
    "language": "sql",
    "name": "CHECK2"
   },
   "outputs": [],
   "source": "SELECT * FROM CURATED.POI WHERE KINDS ILIKE '%museum%' LIMIT 10;",
   "execution_count": null
  },
  {
   "cell_type": "code",
   "id": "36e77964-7943-4ac9-b644-b764415fd6f6",
   "metadata": {
    "language": "sql",
    "name": "CHECK3"
   },
   "outputs": [],
   "source": "SELECT * FROM CURATED.HOLIDAYS ORDER BY DATE LIMIT 5;",
   "execution_count": null
  },
  {
   "cell_type": "code",
   "id": "46533906-6084-46f0-bc67-2f4ff02b0f4d",
   "metadata": {
    "language": "sql",
    "name": "CHECK4"
   },
   "outputs": [],
   "source": "SELECT CITY,BARANGAY,MAX(INCIDENTS_DAY) AS peak FROM CURATED.SAFETY_INDEX GROUP BY 1,2 ORDER BY peak DESC LIMIT 10;",
   "execution_count": null
  },
  {
   "cell_type": "code",
   "id": "87c4b48a-b851-4309-917a-2a4743abf748",
   "metadata": {
    "language": "sql",
    "name": "CHECK5"
   },
   "outputs": [],
   "source": "SELECT SEGMENT_ID, ROAD_NAME, SPEED_KPH, CONGESTION_LEVEL FROM CURATED.TRAFFIC_LATEST ORDER BY SPEED_KPH ASC LIMIT 5;",
   "execution_count": null
  },
  {
   "cell_type": "code",
   "id": "61b4c545-c4aa-436d-a0ef-944b8d5208db",
   "metadata": {
    "language": "sql",
    "name": "CHECK6"
   },
   "outputs": [],
   "source": "SELECT * FROM CURATED.TRANSIT_NEXT_DEPARTURES LIMIT 10;",
   "execution_count": null
  },
  {
   "cell_type": "code",
   "id": "f2930ceb-1cb6-4759-b7c3-38a1e100ce50",
   "metadata": {
    "language": "sql",
    "name": "CHECK7"
   },
   "outputs": [],
   "source": "SELECT NAME, PRICE_NIGHT_PHP, SCORE FROM CURATED.HOTEL_RECO ORDER BY SCORE DESC LIMIT 5;",
   "execution_count": null
  },
  {
   "cell_type": "code",
   "id": "de5f45cc-d66d-4370-94ae-9eadf7376d97",
   "metadata": {
    "language": "sql",
    "name": "PLANNER_AGENT_TEST"
   },
   "outputs": [],
   "source": "-- Top museums near Intramuros with current traffic & safety note\nSELECT p.NAME, p.LAT, p.LON, p.POPULARITY_SCORE,\n       COALESCE(t.CONGESTION_LEVEL,'N/A') AS traffic,\n       (SELECT MAX(INCIDENTS_DAY) FROM CURATED.SAFETY_INDEX s \n         WHERE s.CITY='Manila' AND s.BARANGAY IN ('Intramuros','Ermita')) AS safety_recent\nFROM CURATED.POI p\nLEFT JOIN CURATED.TRAFFIC_LATEST t\n  ON t.ROAD_NAME ILIKE '%Roxas%'  -- demo join (or use nearest segment by geodistance in app layer)\nWHERE p.KINDS ILIKE '%museum%'\nORDER BY p.POPULARITY_SCORE DESC;",
   "execution_count": null
  },
  {
   "cell_type": "code",
   "id": "a4db5964-fa85-4df2-8cad-38f61c486c10",
   "metadata": {
    "language": "sql",
    "name": "WEATHER_AGENT_TEST"
   },
   "outputs": [],
   "source": "SELECT FORECAST_TS, TEMP_C, PRECIP_PROB, RECO\nFROM CURATED.WEATHER_SUITABILITY\nWHERE LAT BETWEEN 14.58 AND 14.60 AND LON BETWEEN 120.97 AND 120.99   -- Intramuros box\n  AND FORECAST_TS::DATE=DATE('2025-10-15')\nORDER BY FORECAST_TS;",
   "execution_count": null
  },
  {
   "cell_type": "code",
   "id": "8d3e5119-20b0-4bcc-a17f-e55a67c8a6c3",
   "metadata": {
    "language": "sql",
    "name": "SAFETY_AGENT_TEST"
   },
   "outputs": [],
   "source": "SELECT BARANGAY, SUM(INCIDENTS_DAY) AS last_7d\nFROM CURATED.SAFETY_INDEX\nWHERE D >= DATEADD(day,-7,CURRENT_DATE())\nGROUP BY BARANGAY\nORDER BY last_7d DESC;",
   "execution_count": null
  },
  {
   "cell_type": "code",
   "id": "8de1c95e-9bee-4bdc-a0bf-5c4d188f8e00",
   "metadata": {
    "language": "sql",
    "name": "RECOMMENDATION_AGENT_TEST"
   },
   "outputs": [],
   "source": "SELECT NAME, KINDS, LAT, LON, POPULARITY_SCORE\nFROM CURATED.POI\nWHERE KINDS ILIKE '%museum%'\nORDER BY POPULARITY_SCORE DESC\nLIMIT 5;",
   "execution_count": null
  },
  {
   "cell_type": "code",
   "id": "76424c67-ebf8-4bf3-88f0-1af2e5bc5464",
   "metadata": {
    "language": "sql",
    "name": "HOTEL_BOOKING_AGENT_TEST"
   },
   "outputs": [],
   "source": "SELECT NAME, PRICE_NIGHT_PHP, REFUNDABLE, SCORE\nFROM CURATED.HOTEL_RECO\nWHERE CITY IN ('Makati','Taguig','Manila')\nORDER BY SCORE DESC, PRICE_NIGHT_PHP ASC\nLIMIT 5;",
   "execution_count": null
  },
  {
   "cell_type": "code",
   "id": "936ad140-5a0f-4333-8300-0d509b32fa1a",
   "metadata": {
    "language": "sql",
    "name": "MUSEUM_BOOKING_AGENT_TEST"
   },
   "outputs": [],
   "source": "SELECT NAME, LAT, LON, RATE, POPULARITY_SCORE\nFROM CURATED.POI\nLIMIT 5;",
   "execution_count": null
  },
  {
   "cell_type": "code",
   "id": "a5d4eb49-1106-40b8-b23f-3fd02ff45912",
   "metadata": {
    "language": "sql",
    "name": "TRANSIT_AGENT_TEST"
   },
   "outputs": [],
   "source": "-- Next departures around 8–10 AM (demo)\nSELECT ROUTE_ID, TRIP_ID, TRIP_HEADSIGN, STOP_NAME, ARR_T\nFROM CURATED.TRANSIT_NEXT_DEPARTURES\nLIMIT 10;\n\n-- Current worst congestion (to avoid)\nSELECT ROAD_NAME, SPEED_KPH, CONGESTION_LEVEL\nFROM CURATED.TRAFFIC_LATEST\nORDER BY SPEED_KPH ASC\nLIMIT 5;\n",
   "execution_count": null
  },
  {
   "cell_type": "code",
   "id": "4da44a90-c6e8-4ab2-a384-53d334ff42fe",
   "metadata": {
    "language": "sql",
    "name": "SEMANTIC_STG_CR8"
   },
   "outputs": [],
   "source": "USE ROLE ACCOUNTADMIN;\nUSE DATABASE TOURISM_DB;\nUSE SCHEMA CURATED;\nCREATE STAGE IF NOT EXISTS SEMANTIC_UPLOAD_STAGE;\n",
   "execution_count": null
  },
  {
   "cell_type": "code",
   "id": "e61b95e4-e8bd-48f3-98dc-8ff8244813e1",
   "metadata": {
    "language": "sql",
    "name": "HELPER"
   },
   "outputs": [],
   "source": "CREATE OR REPLACE VIEW TOURISM_DB.CURATED.WEATHER_BY_CITY AS\nSELECT\n  CITY_NAME AS CITY,\n  DATE(FORECAST_TS) AS FORECAST_DATE,\n  PRECIP_PROB,\n  SUITABILITY,\n  RECO\nFROM TOURISM_DB.CURATED.WEATHER_SUITABILITY;\n",
   "execution_count": null
  }
 ]
}